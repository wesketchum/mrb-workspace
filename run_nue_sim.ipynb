{
 "cells": [
  {
   "cell_type": "code",
   "execution_count": 11,
   "metadata": {},
   "outputs": [
    {
     "name": "stdout",
     "output_type": "stream",
     "text": [
      "%\n",
      "README.md\n",
      "\u001b[0m\u001b[38;5;27mbuild_slf6.x86_64\u001b[0m\n",
      "detsim_uboone.fcl\n",
      "g4_uboone.fcl\n",
      "\u001b[38;5;27mlocalProducts_larsoft_v07_07_01_e17_prof\u001b[0m\n",
      "mem.db\n",
      "my_setup.sh\n",
      "nue_sim_uboone.fcl\n",
      "prodgenie.fcl\n",
      "prodgenie_bnb_g4_uboone.xml\n",
      "prodgenie_bnb_intrinsic_nue_uboone.fcl\n",
      "prodgenie_nue_cc_100MeV.fcl\n",
      "prodgenie_nue_cc_uniform_flux_uboone.fcl\n",
      "root_hist_test.ipynb\n",
      "run_nue_sim.ipynb\n",
      "setup_interactive.ipynb\n",
      "setup_user_python.sh\n",
      "\u001b[38;5;27msrcs\u001b[0m\n",
      "start_jupyterlab.sh\n",
      "test_genie_function_flux.ipynb\n",
      "time.db\n",
      "tmp.fcl\n",
      "tmp.root\n",
      "tmp_tfs.root\n",
      "\u001b[m"
     ]
    }
   ],
   "source": [
    "ls"
   ]
  },
  {
   "cell_type": "code",
   "execution_count": 10,
   "metadata": {},
   "outputs": [
    {
     "name": "stdout",
     "output_type": "stream",
     "text": [
      "[1] 23217\n"
     ]
    }
   ],
   "source": [
    "lar -c prodgenie_bnb_intrinsic_nue_uboone.fcl -n 100 -o /uboone/data/users/wketchum/mcc9/bnb_intrinsic_nue_genie.root -T /uboone/data/users/wketchum/mcc9/bnb_intrinsic_nue_genie_tfs.root >& /uboone/data/users/wketchum/mcc9/bnb_intrinsic_nue_genie.log &"
   ]
  },
  {
   "cell_type": "code",
   "execution_count": 3,
   "metadata": {},
   "outputs": [
    {
     "name": "stdout",
     "output_type": "stream",
     "text": [
      "[2] 17326\n",
      "[1]   Done                    lar -c prodgenie_bnb_intrinsic_nue_uboone.fcl -n 100 -o /uboone/data/users/wketchum/mcc9/bnb_intrinsic_nue_genie.root -T /uboone/data/users/wketchum/mcc9/bnb_intrinsic_nue_genie_tfs.root &>/uboone/data/users/wketchum/mcc9/bnb_intrinsic_nue_genie.log\n"
     ]
    }
   ],
   "source": [
    "lar -c g4_uboone.fcl -s /uboone/data/users/wketchum/mcc9/bnb_intrinsic_nue_genie.root -n -1 -o /uboone/data/users/wketchum/mcc9/bnb_intrinsic_nue_g4.root -T /uboone/data/users/wketchum/mcc9/bnb_intrinsic_nue_g4_tfs.root >& /uboone/data/users/wketchum/mcc9/bnb_intrinsic_nue_g4.log &"
   ]
  },
  {
   "cell_type": "code",
   "execution_count": 6,
   "metadata": {},
   "outputs": [
    {
     "name": "stdout",
     "output_type": "stream",
     "text": [
      "[1] 17781\n"
     ]
    }
   ],
   "source": [
    "lar -c detsim_uboone.fcl -s /uboone/data/users/wketchum/mcc9/bnb_intrinsic_nue_g4.root -n -1 -o /uboone/data/users/wketchum/mcc9/bnb_intrinsic_nue_detsim.root -T /uboone/data/users/wketchum/mcc9/bnb_intrinsic_nue_detsim_tfs.root >& /uboone/data/users/wketchum/mcc9/bnb_intrinsic_nue_detsim.log &"
   ]
  },
  {
   "cell_type": "code",
   "execution_count": 15,
   "metadata": {},
   "outputs": [
    {
     "name": "stdout",
     "output_type": "stream",
     "text": [
      "[5] 24742\n",
      "[4]   Exit 9                  lar -c nue_sim_uboone.fcl -n 100 -o /uboone/data/users/wketchum/mcc9/nue_sim.root -T /uboone/data/users/wketchum/mcc9/nue_sim_tfs.root &>/uboone/data/users/wketchum/mcc9/nue_sim.log\n"
     ]
    }
   ],
   "source": [
    "lar -c nue_sim_uboone.fcl -n 100 -o /uboone/data/users/wketchum/mcc9/nue_sim.root -T /uboone/data/users/wketchum/mcc9/nue_sim_tfs.root >& /uboone/data/users/wketchum/mcc9/nue_sim.log &"
   ]
  },
  {
   "cell_type": "code",
   "execution_count": 16,
   "metadata": {},
   "outputs": [
    {
     "name": "stdout",
     "output_type": "stream",
     "text": [
      "-rw-r--r-- 1 wketchum microboone 295M Oct 20 21:52 /uboone/data/users/wketchum/mcc9/nue_sim.root\n",
      "[5]+  Done                    lar -c nue_sim_uboone.fcl -n 100 -o /uboone/data/users/wketchum/mcc9/nue_sim.root -T /uboone/data/users/wketchum/mcc9/nue_sim_tfs.root &>/uboone/data/users/wketchum/mcc9/nue_sim.log\n"
     ]
    }
   ],
   "source": [
    "ls -lrth /uboone/data/users/wketchum/mcc9/nue_sim.root"
   ]
  },
  {
   "cell_type": "code",
   "execution_count": 18,
   "metadata": {},
   "outputs": [
    {
     "name": "stdout",
     "output_type": "stream",
     "text": [
      "%MSG-i MF_INIT_OK:  Early 20-Oct-2018 22:00:25 CDT JobSetup\n",
      "Messagelogger initialization complete.\n",
      "%MSG\n",
      "20-Oct-2018 22:00:25 CDT  Initiating request to open input file \"/uboone/data/users/wketchum/mcc9/nue_sim.root\"\n",
      "20-Oct-2018 22:00:25 CDT  Opened input file \"/uboone/data/users/wketchum/mcc9/nue_sim.root\"\n",
      "Begin processing the 1st record. run: 1 subRun: 0 event: 1 at 20-Oct-2018 22:00:27 CDT\n",
      "PRINCIPAL TYPE: Event\n",
      "PROCESS NAME | MODULE_LABEL.. | PRODUCT INSTANCE NAME | DATA PRODUCT TYPE.................................................... | .SIZE\n",
      "NueSim...... | pmtreadout.... | BNBLogicPulse........ | std::vector<raw::OpDetWaveform>...................................... | ....2\n",
      "NueSim...... | pmtreadout.... | OpdetBeamHighGain.... | std::vector<raw::OpDetWaveform>...................................... | ...32\n",
      "NueSim...... | triggersim.... | ..................... | std::vector<raw::Trigger>............................................ | ....1\n",
      "NueSim...... | optdigitizer.. | ..................... | optdata::ChannelDataGroup............................................ | ....?\n",
      "NueSim...... | generator..... | ..................... | art::Assns<simb::MCTruth,simb::GTruth,void>.......................... | ....1\n",
      "NueSim...... | pmtreadout.... | NUMILogicPulse....... | std::vector<raw::OpDetWaveform>...................................... | ....2\n",
      "NueSim...... | pmtreadout.... | Uncategorized........ | std::vector<raw::OpDetWaveform>...................................... | ....0\n",
      "NueSim...... | swtrigger..... | ..................... | raw::ubdaqSoftwareTriggerData........................................ | ....-\n",
      "NueSim...... | TriggerResults | ..................... | art::TriggerResults.................................................. | ....-\n",
      "NueSim...... | generator..... | ..................... | std::vector<simb::MCFlux>............................................ | ....1\n",
      "NueSim...... | generator..... | ..................... | std::vector<simb::MCTruth>........................................... | ....1\n",
      "NueSim...... | optfem........ | ..................... | std::vector<optdata::FIFOChannel>.................................... | ..121\n",
      "NueSim...... | pmtreadout.... | UnspecifiedLogic..... | std::vector<raw::OpDetWaveform>...................................... | ...24\n",
      "NueSim...... | optdigitizer.. | ..................... | std::vector<sim::BeamGateInfo>....................................... | ....1\n",
      "NueSim...... | largeant...... | ..................... | std::vector<sim::AuxDetSimChannel>................................... | .1168\n",
      "NueSim...... | generator..... | ..................... | art::Assns<simb::MCTruth,simb::MCFlux,void>.......................... | ....1\n",
      "NueSim...... | rns........... | ..................... | std::vector<art::RNGsnapshot>........................................ | ....2\n",
      "NueSim...... | generator..... | ..................... | std::vector<sim::BeamGateInfo>....................................... | ....1\n",
      "NueSim...... | generator..... | ..................... | std::vector<simb::GTruth>............................................ | ....1\n",
      "NueSim...... | optfem........ | ..................... | std::vector<optdata::PMTTrigger>..................................... | ....0\n",
      "NueSim...... | largeant...... | Other................ | std::vector<sim::SimEnergyDeposit>................................... | ..565\n",
      "NueSim...... | largeant...... | ..................... | std::vector<simb::MCParticle>........................................ | ..842\n",
      "NueSim...... | largeant...... | ..................... | art::Assns<simb::MCTruth,simb::MCParticle,sim::GeneratedParticleInfo> | ..842\n",
      "NueSim...... | pmtreadout.... | StrobeLogicPulse..... | std::vector<raw::OpDetWaveform>...................................... | ....0\n",
      "NueSim...... | largeant...... | TPCActive............ | std::vector<sim::SimEnergyDeposit>................................... | 20124\n",
      "NueSim...... | pmtreadout.... | OpdetCosmicLowGain... | std::vector<raw::OpDetWaveform>...................................... | ....0\n",
      "NueSim...... | pmtreadout.... | OpdetCosmicHighGain.. | std::vector<raw::OpDetWaveform>...................................... | ...29\n",
      "NueSim...... | pmtreadout.... | OpdetBeamLowGain..... | std::vector<raw::OpDetWaveform>...................................... | ...32\n",
      "NueSim...... | largeant...... | ..................... | std::vector<sim::SimPhotons>......................................... | ...32\n",
      "NueSim...... | pmtreadout.... | FlasherLogicPulse.... | std::vector<raw::OpDetWaveform>...................................... | ....0\n",
      "\n",
      "Total products (present, not present): 30 (29, 1).\n",
      "\n",
      "Begin processing the 2nd record. run: 1 subRun: 0 event: 2 at 20-Oct-2018 22:00:27 CDT\n",
      "PRINCIPAL TYPE: Event\n",
      "PROCESS NAME | MODULE_LABEL.. | PRODUCT INSTANCE NAME | DATA PRODUCT TYPE.................................................... | .SIZE\n",
      "NueSim...... | pmtreadout.... | BNBLogicPulse........ | std::vector<raw::OpDetWaveform>...................................... | ....2\n",
      "NueSim...... | pmtreadout.... | OpdetBeamHighGain.... | std::vector<raw::OpDetWaveform>...................................... | ...32\n",
      "NueSim...... | triggersim.... | ..................... | std::vector<raw::Trigger>............................................ | ....1\n",
      "NueSim...... | optdigitizer.. | ..................... | optdata::ChannelDataGroup............................................ | ....?\n",
      "NueSim...... | generator..... | ..................... | art::Assns<simb::MCTruth,simb::GTruth,void>.......................... | ....1\n",
      "NueSim...... | pmtreadout.... | NUMILogicPulse....... | std::vector<raw::OpDetWaveform>...................................... | ....2\n",
      "NueSim...... | pmtreadout.... | Uncategorized........ | std::vector<raw::OpDetWaveform>...................................... | ....0\n",
      "NueSim...... | swtrigger..... | ..................... | raw::ubdaqSoftwareTriggerData........................................ | ....-\n",
      "NueSim...... | TriggerResults | ..................... | art::TriggerResults.................................................. | ....-\n",
      "NueSim...... | generator..... | ..................... | std::vector<simb::MCFlux>............................................ | ....1\n",
      "NueSim...... | generator..... | ..................... | std::vector<simb::MCTruth>........................................... | ....1\n",
      "NueSim...... | optfem........ | ..................... | std::vector<optdata::FIFOChannel>.................................... | ..118\n",
      "NueSim...... | pmtreadout.... | UnspecifiedLogic..... | std::vector<raw::OpDetWaveform>...................................... | ...24\n",
      "NueSim...... | optdigitizer.. | ..................... | std::vector<sim::BeamGateInfo>....................................... | ....1\n",
      "NueSim...... | largeant...... | ..................... | std::vector<sim::AuxDetSimChannel>................................... | .1168\n",
      "NueSim...... | generator..... | ..................... | art::Assns<simb::MCTruth,simb::MCFlux,void>.......................... | ....1\n",
      "NueSim...... | rns........... | ..................... | std::vector<art::RNGsnapshot>........................................ | ....2\n",
      "NueSim...... | generator..... | ..................... | std::vector<sim::BeamGateInfo>....................................... | ....1\n",
      "NueSim...... | generator..... | ..................... | std::vector<simb::GTruth>............................................ | ....1\n",
      "NueSim...... | optfem........ | ..................... | std::vector<optdata::PMTTrigger>..................................... | ....0\n",
      "NueSim...... | largeant...... | Other................ | std::vector<sim::SimEnergyDeposit>................................... | ..141\n",
      "NueSim...... | largeant...... | ..................... | std::vector<simb::MCParticle>........................................ | .3379\n",
      "NueSim...... | largeant...... | ..................... | art::Assns<simb::MCTruth,simb::MCParticle,sim::GeneratedParticleInfo> | .3379\n",
      "NueSim...... | pmtreadout.... | StrobeLogicPulse..... | std::vector<raw::OpDetWaveform>...................................... | ....0\n",
      "NueSim...... | largeant...... | TPCActive............ | std::vector<sim::SimEnergyDeposit>................................... | 76459\n",
      "NueSim...... | pmtreadout.... | OpdetCosmicLowGain... | std::vector<raw::OpDetWaveform>...................................... | ....0\n",
      "NueSim...... | pmtreadout.... | OpdetCosmicHighGain.. | std::vector<raw::OpDetWaveform>...................................... | ...26\n",
      "NueSim...... | pmtreadout.... | OpdetBeamLowGain..... | std::vector<raw::OpDetWaveform>...................................... | ...32\n",
      "NueSim...... | largeant...... | ..................... | std::vector<sim::SimPhotons>......................................... | ...32\n",
      "NueSim...... | pmtreadout.... | FlasherLogicPulse.... | std::vector<raw::OpDetWaveform>...................................... | ....0\n",
      "\n",
      "Total products (present, not present): 30 (29, 1).\n",
      "\n",
      "Begin processing the 3rd record. run: 1 subRun: 0 event: 3 at 20-Oct-2018 22:00:27 CDT\n",
      "PRINCIPAL TYPE: Event\n",
      "PROCESS NAME | MODULE_LABEL.. | PRODUCT INSTANCE NAME | DATA PRODUCT TYPE.................................................... | .SIZE\n",
      "NueSim...... | pmtreadout.... | BNBLogicPulse........ | std::vector<raw::OpDetWaveform>...................................... | ....2\n",
      "NueSim...... | pmtreadout.... | OpdetBeamHighGain.... | std::vector<raw::OpDetWaveform>...................................... | ...32\n",
      "NueSim...... | triggersim.... | ..................... | std::vector<raw::Trigger>............................................ | ....1\n",
      "NueSim...... | optdigitizer.. | ..................... | optdata::ChannelDataGroup............................................ | ....?\n",
      "NueSim...... | generator..... | ..................... | art::Assns<simb::MCTruth,simb::GTruth,void>.......................... | ....1\n",
      "NueSim...... | pmtreadout.... | NUMILogicPulse....... | std::vector<raw::OpDetWaveform>...................................... | ....2\n",
      "NueSim...... | pmtreadout.... | Uncategorized........ | std::vector<raw::OpDetWaveform>...................................... | ....0\n",
      "NueSim...... | swtrigger..... | ..................... | raw::ubdaqSoftwareTriggerData........................................ | ....-\n",
      "NueSim...... | TriggerResults | ..................... | art::TriggerResults.................................................. | ....-\n",
      "NueSim...... | generator..... | ..................... | std::vector<simb::MCFlux>............................................ | ....1\n",
      "NueSim...... | generator..... | ..................... | std::vector<simb::MCTruth>........................................... | ....1\n",
      "NueSim...... | optfem........ | ..................... | std::vector<optdata::FIFOChannel>.................................... | ..130\n",
      "NueSim...... | pmtreadout.... | UnspecifiedLogic..... | std::vector<raw::OpDetWaveform>...................................... | ...24\n",
      "NueSim...... | optdigitizer.. | ..................... | std::vector<sim::BeamGateInfo>....................................... | ....1\n",
      "NueSim...... | largeant...... | ..................... | std::vector<sim::AuxDetSimChannel>................................... | .1168\n",
      "NueSim...... | generator..... | ..................... | art::Assns<simb::MCTruth,simb::MCFlux,void>.......................... | ....1\n",
      "NueSim...... | rns........... | ..................... | std::vector<art::RNGsnapshot>........................................ | ....2\n",
      "NueSim...... | generator..... | ..................... | std::vector<sim::BeamGateInfo>....................................... | ....1\n",
      "NueSim...... | generator..... | ..................... | std::vector<simb::GTruth>............................................ | ....1\n",
      "NueSim...... | optfem........ | ..................... | std::vector<optdata::PMTTrigger>..................................... | ....0\n",
      "NueSim...... | largeant...... | Other................ | std::vector<sim::SimEnergyDeposit>................................... | ..360\n",
      "NueSim...... | largeant...... | ..................... | std::vector<simb::MCParticle>........................................ | .3255\n",
      "NueSim...... | largeant...... | ..................... | art::Assns<simb::MCTruth,simb::MCParticle,sim::GeneratedParticleInfo> | .3255\n",
      "NueSim...... | pmtreadout.... | StrobeLogicPulse..... | std::vector<raw::OpDetWaveform>...................................... | ....0\n",
      "NueSim...... | largeant...... | TPCActive............ | std::vector<sim::SimEnergyDeposit>................................... | 73475\n",
      "NueSim...... | pmtreadout.... | OpdetCosmicLowGain... | std::vector<raw::OpDetWaveform>...................................... | ....0\n",
      "NueSim...... | pmtreadout.... | OpdetCosmicHighGain.. | std::vector<raw::OpDetWaveform>...................................... | ...38\n",
      "NueSim...... | pmtreadout.... | OpdetBeamLowGain..... | std::vector<raw::OpDetWaveform>...................................... | ...32\n",
      "NueSim...... | largeant...... | ..................... | std::vector<sim::SimPhotons>......................................... | ...32\n",
      "NueSim...... | pmtreadout.... | FlasherLogicPulse.... | std::vector<raw::OpDetWaveform>...................................... | ....0\n",
      "\n",
      "Total products (present, not present): 30 (29, 1).\n",
      "\n",
      "Begin processing the 4th record. run: 1 subRun: 0 event: 4 at 20-Oct-2018 22:00:27 CDT\n",
      "PRINCIPAL TYPE: Event\n",
      "PROCESS NAME | MODULE_LABEL.. | PRODUCT INSTANCE NAME | DATA PRODUCT TYPE.................................................... | .SIZE\n",
      "NueSim...... | pmtreadout.... | BNBLogicPulse........ | std::vector<raw::OpDetWaveform>...................................... | ....2\n",
      "NueSim...... | pmtreadout.... | OpdetBeamHighGain.... | std::vector<raw::OpDetWaveform>...................................... | ...32\n",
      "NueSim...... | triggersim.... | ..................... | std::vector<raw::Trigger>............................................ | ....1\n",
      "NueSim...... | optdigitizer.. | ..................... | optdata::ChannelDataGroup............................................ | ....?\n",
      "NueSim...... | generator..... | ..................... | art::Assns<simb::MCTruth,simb::GTruth,void>.......................... | ....1\n",
      "NueSim...... | pmtreadout.... | NUMILogicPulse....... | std::vector<raw::OpDetWaveform>...................................... | ....2\n",
      "NueSim...... | pmtreadout.... | Uncategorized........ | std::vector<raw::OpDetWaveform>...................................... | ....0\n",
      "NueSim...... | swtrigger..... | ..................... | raw::ubdaqSoftwareTriggerData........................................ | ....-\n",
      "NueSim...... | TriggerResults | ..................... | art::TriggerResults.................................................. | ....-\n",
      "NueSim...... | generator..... | ..................... | std::vector<simb::MCFlux>............................................ | ....1\n",
      "NueSim...... | generator..... | ..................... | std::vector<simb::MCTruth>........................................... | ....1\n",
      "NueSim...... | optfem........ | ..................... | std::vector<optdata::FIFOChannel>.................................... | ..113\n",
      "NueSim...... | pmtreadout.... | UnspecifiedLogic..... | std::vector<raw::OpDetWaveform>...................................... | ...24\n",
      "NueSim...... | optdigitizer.. | ..................... | std::vector<sim::BeamGateInfo>....................................... | ....1\n",
      "NueSim...... | largeant...... | ..................... | std::vector<sim::AuxDetSimChannel>................................... | .1168\n",
      "NueSim...... | generator..... | ..................... | art::Assns<simb::MCTruth,simb::MCFlux,void>.......................... | ....1\n",
      "NueSim...... | rns........... | ..................... | std::vector<art::RNGsnapshot>........................................ | ....2\n",
      "NueSim...... | generator..... | ..................... | std::vector<sim::BeamGateInfo>....................................... | ....1\n",
      "NueSim...... | generator..... | ..................... | std::vector<simb::GTruth>............................................ | ....1\n",
      "NueSim...... | optfem........ | ..................... | std::vector<optdata::PMTTrigger>..................................... | ....0\n",
      "NueSim...... | largeant...... | Other................ | std::vector<sim::SimEnergyDeposit>................................... | .1523\n",
      "NueSim...... | largeant...... | ..................... | std::vector<simb::MCParticle>........................................ | .2804\n",
      "NueSim...... | largeant...... | ..................... | art::Assns<simb::MCTruth,simb::MCParticle,sim::GeneratedParticleInfo> | .2804\n",
      "NueSim...... | pmtreadout.... | StrobeLogicPulse..... | std::vector<raw::OpDetWaveform>...................................... | ....0\n",
      "NueSim...... | largeant...... | TPCActive............ | std::vector<sim::SimEnergyDeposit>................................... | 50007\n",
      "NueSim...... | pmtreadout.... | OpdetCosmicLowGain... | std::vector<raw::OpDetWaveform>...................................... | ....0\n",
      "NueSim...... | pmtreadout.... | OpdetCosmicHighGain.. | std::vector<raw::OpDetWaveform>...................................... | ...21\n",
      "NueSim...... | pmtreadout.... | OpdetBeamLowGain..... | std::vector<raw::OpDetWaveform>...................................... | ...32\n",
      "NueSim...... | largeant...... | ..................... | std::vector<sim::SimPhotons>......................................... | ...32\n",
      "NueSim...... | pmtreadout.... | FlasherLogicPulse.... | std::vector<raw::OpDetWaveform>...................................... | ....0\n",
      "\n",
      "Total products (present, not present): 30 (29, 1).\n",
      "\n",
      "Begin processing the 5th record. run: 1 subRun: 0 event: 5 at 20-Oct-2018 22:00:28 CDT\n",
      "PRINCIPAL TYPE: Event\n",
      "PROCESS NAME | MODULE_LABEL.. | PRODUCT INSTANCE NAME | DATA PRODUCT TYPE.................................................... | .SIZE\n",
      "NueSim...... | pmtreadout.... | BNBLogicPulse........ | std::vector<raw::OpDetWaveform>...................................... | ....2\n",
      "NueSim...... | pmtreadout.... | OpdetBeamHighGain.... | std::vector<raw::OpDetWaveform>...................................... | ...32\n",
      "NueSim...... | triggersim.... | ..................... | std::vector<raw::Trigger>............................................ | ....1\n",
      "NueSim...... | optdigitizer.. | ..................... | optdata::ChannelDataGroup............................................ | ....?\n",
      "NueSim...... | generator..... | ..................... | art::Assns<simb::MCTruth,simb::GTruth,void>.......................... | ....1\n",
      "NueSim...... | pmtreadout.... | NUMILogicPulse....... | std::vector<raw::OpDetWaveform>...................................... | ....2\n",
      "NueSim...... | pmtreadout.... | Uncategorized........ | std::vector<raw::OpDetWaveform>...................................... | ....0\n",
      "NueSim...... | swtrigger..... | ..................... | raw::ubdaqSoftwareTriggerData........................................ | ....-\n",
      "NueSim...... | TriggerResults | ..................... | art::TriggerResults.................................................. | ....-\n",
      "NueSim...... | generator..... | ..................... | std::vector<simb::MCFlux>............................................ | ....1\n",
      "NueSim...... | generator..... | ..................... | std::vector<simb::MCTruth>........................................... | ....1\n",
      "NueSim...... | optfem........ | ..................... | std::vector<optdata::FIFOChannel>.................................... | ..130\n",
      "NueSim...... | pmtreadout.... | UnspecifiedLogic..... | std::vector<raw::OpDetWaveform>...................................... | ...24\n",
      "NueSim...... | optdigitizer.. | ..................... | std::vector<sim::BeamGateInfo>....................................... | ....1\n",
      "NueSim...... | largeant...... | ..................... | std::vector<sim::AuxDetSimChannel>................................... | .1168\n",
      "NueSim...... | generator..... | ..................... | art::Assns<simb::MCTruth,simb::MCFlux,void>.......................... | ....1\n",
      "NueSim...... | rns........... | ..................... | std::vector<art::RNGsnapshot>........................................ | ....2\n",
      "NueSim...... | generator..... | ..................... | std::vector<sim::BeamGateInfo>....................................... | ....1\n",
      "NueSim...... | generator..... | ..................... | std::vector<simb::GTruth>............................................ | ....1\n",
      "NueSim...... | optfem........ | ..................... | std::vector<optdata::PMTTrigger>..................................... | ....0\n",
      "NueSim...... | largeant...... | Other................ | std::vector<sim::SimEnergyDeposit>................................... | .2746\n",
      "NueSim...... | largeant...... | ..................... | std::vector<simb::MCParticle>........................................ | .2224\n",
      "NueSim...... | largeant...... | ..................... | art::Assns<simb::MCTruth,simb::MCParticle,sim::GeneratedParticleInfo> | .2224\n",
      "NueSim...... | pmtreadout.... | StrobeLogicPulse..... | std::vector<raw::OpDetWaveform>...................................... | ....0\n",
      "NueSim...... | largeant...... | TPCActive............ | std::vector<sim::SimEnergyDeposit>................................... | 29154\n",
      "NueSim...... | pmtreadout.... | OpdetCosmicLowGain... | std::vector<raw::OpDetWaveform>...................................... | ....0\n",
      "NueSim...... | pmtreadout.... | OpdetCosmicHighGain.. | std::vector<raw::OpDetWaveform>...................................... | ...38\n",
      "NueSim...... | pmtreadout.... | OpdetBeamLowGain..... | std::vector<raw::OpDetWaveform>...................................... | ...32\n",
      "NueSim...... | largeant...... | ..................... | std::vector<sim::SimPhotons>......................................... | ...32\n",
      "NueSim...... | pmtreadout.... | FlasherLogicPulse.... | std::vector<raw::OpDetWaveform>...................................... | ....0\n",
      "\n",
      "Total products (present, not present): 30 (29, 1).\n",
      "\n",
      "PRINCIPAL TYPE: SubRun\n",
      "PROCESS NAME | MODULE_LABEL | PRODUCT INSTANCE NAME | DATA PRODUCT TYPE.. | SIZE\n",
      "NueSim...... | generator... | ..................... | sumdata::POTSummary | ...-\n",
      "\n",
      "Total products (present, not present): 1 (1, 0).\n",
      "\n",
      "PRINCIPAL TYPE: Run\n",
      "PROCESS NAME | MODULE_LABEL | PRODUCT INSTANCE NAME | DATA PRODUCT TYPE | SIZE\n",
      "NueSim...... | generator... | ..................... | sumdata::RunData. | ...-\n",
      "\n",
      "Total products (present, not present): 1 (1, 0).\n",
      "\n",
      "20-Oct-2018 22:00:28 CDT  Closed input file \"/uboone/data/users/wketchum/mcc9/nue_sim.root\"\n",
      "\n",
      "TrigReport ---------- Event  Summary ------------\n",
      "TrigReport Events total = 5 passed = 5 failed = 0\n",
      "\n",
      "TrigReport ------ Modules in End-Path: end_path ------------\n",
      "TrigReport  Trig Bit#        Run    Success      Error Name\n",
      "TrigReport     0    0          5          5          0 out1\n",
      "\n",
      "TimeReport ---------- Time  Summary ---[sec]----\n",
      "TimeReport CPU = 0.630904 Real = 0.918118\n",
      "\n",
      "MemReport  ---------- Memory  Summary ---[base-10 MB]----\n",
      "MemReport  VmPeak = 762.581 VmHWM = 397.144\n",
      "\n",
      "Art has completed and will exit with status 0.\n"
     ]
    }
   ],
   "source": [
    "lar -c eventdump.fcl -s /uboone/data/users/wketchum/mcc9/nue_sim.root -n 5"
   ]
  },
  {
   "cell_type": "code",
   "execution_count": 20,
   "metadata": {},
   "outputs": [
    {
     "name": "stdout",
     "output_type": "stream",
     "text": [
      "prodgenie_bnb_nu_detsim_optical_uboone.xml\n"
     ]
    }
   ],
   "source": [
    "ls *.xml"
   ]
  },
  {
   "cell_type": "code",
   "execution_count": 21,
   "metadata": {},
   "outputs": [
    {
     "name": "stdout",
     "output_type": "stream",
     "text": [
      " 1048  ls *.xml\n",
      " 1050  history | grep xml\n"
     ]
    }
   ],
   "source": [
    "history | grep xml"
   ]
  },
  {
   "cell_type": "code",
   "execution_count": 23,
   "metadata": {},
   "outputs": [
    {
     "name": "stdout",
     "output_type": "stream",
     "text": [
      "Stage sim:\n",
      "Invoke jobsub_submit\n",
      "jobsub_submit finished.\n"
     ]
    }
   ],
   "source": [
    "project.py --xml prodgenie_bnb_nu_detsim_optical_uboone.xml --stage sim --submit"
   ]
  },
  {
   "cell_type": "code",
   "execution_count": 29,
   "metadata": {},
   "outputs": [
    {
     "name": "stdout",
     "output_type": "stream",
     "text": [
      "12591746.982@jobsub02.fnal.gov        wketchum        10/20 22:15   0+00:00:00 I   0   0.0 sim-prodgenie_bnb_nue_detsim_optical_uboone-v07_07_01_01.sh_20181020_221543_3367717_0_1_wrap.sh \n",
      "12591746.983@jobsub02.fnal.gov        wketchum        10/20 22:15   0+00:00:00 I   0   0.0 sim-prodgenie_bnb_nue_detsim_optical_uboone-v07_07_01_01.sh_20181020_221543_3367717_0_1_wrap.sh \n",
      "12591746.984@jobsub02.fnal.gov        wketchum        10/20 22:15   0+00:00:00 I   0   0.0 sim-prodgenie_bnb_nue_detsim_optical_uboone-v07_07_01_01.sh_20181020_221543_3367717_0_1_wrap.sh \n",
      "12591746.985@jobsub02.fnal.gov        wketchum        10/20 22:15   0+00:00:00 I   0   0.0 sim-prodgenie_bnb_nue_detsim_optical_uboone-v07_07_01_01.sh_20181020_221543_3367717_0_1_wrap.sh \n",
      "12591746.986@jobsub02.fnal.gov        wketchum        10/20 22:15   0+00:00:00 I   0   0.0 sim-prodgenie_bnb_nue_detsim_optical_uboone-v07_07_01_01.sh_20181020_221543_3367717_0_1_wrap.sh \n",
      "12591746.987@jobsub02.fnal.gov        wketchum        10/20 22:15   0+00:00:00 I   0   0.0 sim-prodgenie_bnb_nue_detsim_optical_uboone-v07_07_01_01.sh_20181020_221543_3367717_0_1_wrap.sh \n",
      "12591746.988@jobsub02.fnal.gov        wketchum        10/20 22:15   0+00:00:00 I   0   0.0 sim-prodgenie_bnb_nue_detsim_optical_uboone-v07_07_01_01.sh_20181020_221543_3367717_0_1_wrap.sh \n",
      "12591746.989@jobsub02.fnal.gov        wketchum        10/20 22:15   0+00:00:00 I   0   0.0 sim-prodgenie_bnb_nue_detsim_optical_uboone-v07_07_01_01.sh_20181020_221543_3367717_0_1_wrap.sh \n",
      "12591746.990@jobsub02.fnal.gov        wketchum        10/20 22:15   0+00:00:00 I   0   0.0 sim-prodgenie_bnb_nue_detsim_optical_uboone-v07_07_01_01.sh_20181020_221543_3367717_0_1_wrap.sh \n",
      "12591746.991@jobsub02.fnal.gov        wketchum        10/20 22:15   0+00:00:00 I   0   0.0 sim-prodgenie_bnb_nue_detsim_optical_uboone-v07_07_01_01.sh_20181020_221543_3367717_0_1_wrap.sh \n",
      "12591746.992@jobsub02.fnal.gov        wketchum        10/20 22:15   0+00:00:00 I   0   0.0 sim-prodgenie_bnb_nue_detsim_optical_uboone-v07_07_01_01.sh_20181020_221543_3367717_0_1_wrap.sh \n",
      "12591746.993@jobsub02.fnal.gov        wketchum        10/20 22:15   0+00:00:00 I   0   0.0 sim-prodgenie_bnb_nue_detsim_optical_uboone-v07_07_01_01.sh_20181020_221543_3367717_0_1_wrap.sh \n",
      "12591746.994@jobsub02.fnal.gov        wketchum        10/20 22:15   0+00:00:00 I   0   0.0 sim-prodgenie_bnb_nue_detsim_optical_uboone-v07_07_01_01.sh_20181020_221543_3367717_0_1_wrap.sh \n",
      "12591746.995@jobsub02.fnal.gov        wketchum        10/20 22:15   0+00:00:00 I   0   0.0 sim-prodgenie_bnb_nue_detsim_optical_uboone-v07_07_01_01.sh_20181020_221543_3367717_0_1_wrap.sh \n",
      "12591746.996@jobsub02.fnal.gov        wketchum        10/20 22:15   0+00:00:00 I   0   0.0 sim-prodgenie_bnb_nue_detsim_optical_uboone-v07_07_01_01.sh_20181020_221543_3367717_0_1_wrap.sh \n",
      "12591746.997@jobsub02.fnal.gov        wketchum        10/20 22:15   0+00:00:00 I   0   0.0 sim-prodgenie_bnb_nue_detsim_optical_uboone-v07_07_01_01.sh_20181020_221543_3367717_0_1_wrap.sh \n",
      "12591746.998@jobsub02.fnal.gov        wketchum        10/20 22:15   0+00:00:00 I   0   0.0 sim-prodgenie_bnb_nue_detsim_optical_uboone-v07_07_01_01.sh_20181020_221543_3367717_0_1_wrap.sh \n",
      "12591746.999@jobsub02.fnal.gov        wketchum        10/20 22:15   0+00:00:00 I   0   0.0 sim-prodgenie_bnb_nue_detsim_optical_uboone-v07_07_01_01.sh_20181020_221543_3367717_0_1_wrap.sh \n",
      "\n",
      "2000 jobs; 0 completed, 0 removed, 1662 idle, 338 running, 0 held, 0 suspended\n"
     ]
    }
   ],
   "source": [
    "jobsub_q --user wketchum | tail -n 20"
   ]
  },
  {
   "cell_type": "code",
   "execution_count": 26,
   "metadata": {},
   "outputs": [
    {
     "name": "stdout",
     "output_type": "stream",
     "text": [
      "Stage sim:\n",
      "Invoke jobsub_submit\n",
      "jobsub_submit finished.\n"
     ]
    }
   ],
   "source": [
    "project.py --xml prodgenie_bnb_nu_detsim_optical_uboone_offsite.xml --stage sim --submit"
   ]
  },
  {
   "cell_type": "code",
   "execution_count": null,
   "metadata": {},
   "outputs": [],
   "source": []
  }
 ],
 "metadata": {
  "kernelspec": {
   "display_name": "Bash",
   "language": "bash",
   "name": "bash"
  },
  "language_info": {
   "codemirror_mode": "shell",
   "file_extension": ".sh",
   "mimetype": "text/x-sh",
   "name": "bash"
  }
 },
 "nbformat": 4,
 "nbformat_minor": 2
}
