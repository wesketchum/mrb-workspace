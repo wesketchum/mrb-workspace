{
 "cells": [
  {
   "cell_type": "code",
   "execution_count": 12,
   "metadata": {},
   "outputs": [],
   "source": [
    "export EXPERIMENT=icarus"
   ]
  },
  {
   "cell_type": "code",
   "execution_count": 4,
   "metadata": {},
   "outputs": [],
   "source": [
    "source /grid/fermiapp/products/artdaq/setup\n",
    "setup artdaq v3_03_00 -qe15:s64:prof\n",
    "setup mrb"
   ]
  },
  {
   "cell_type": "code",
   "execution_count": 15,
   "metadata": {},
   "outputs": [
    {
     "name": "stdout",
     "output_type": "stream",
     "text": [
      "NOTICE: Just make products area\n",
      "\n",
      "building development area for sbndaq v0_01_00 -q e15:prof:icarus\n",
      "\n",
      "use existing build directory in .\n",
      "use existing srcs directory /home/nfs/wketchum/sbndaq_Oct18/srcs\n",
      "ERROR: /home/nfs/wketchum/sbndaq_Oct18/localProducts_sbndaq_v0_01_00_e15_prof_icarus already exists. Delete it first\n",
      "\n",
      "MRB_PROJECT=sbndaq\n",
      "MRB_PROJECT_VERSION=v0_01_00\n",
      "MRB_QUALS=e15:prof:icarus\n",
      "MRB_TOP=/home/nfs/wketchum/sbndaq_Oct18\n",
      "MRB_SOURCE=/home/nfs/wketchum/sbndaq_Oct18/srcs\n",
      "MRB_BUILDDIR=/home/nfs/wketchum/sbndaq_Oct18/build_slf7.x86_64\n",
      "MRB_INSTALL=/home/nfs/wketchum/sbndaq_Oct18/localProducts_sbndaq_v0_01_00_e15_prof_icarus\n",
      "\n",
      "PRODUCTS=/home/nfs/wketchum/sbndaq_Oct18/localProducts_sbndaq_v0_01_00_e15_prof_icarus:/grid/fermiapp/products/artdaq\n",
      "\n"
     ]
    }
   ],
   "source": [
    "export MRB_PROJECT=sbndaq\n",
    "mrb newDev -v v0_01_00 -qe15:prof:${EXPERIMENT} -p\n",
    "source localProducts_*_${EXPERIMENT}/setup"
   ]
  },
  {
   "cell_type": "code",
   "execution_count": null,
   "metadata": {},
   "outputs": [],
   "source": []
  }
 ],
 "metadata": {
  "kernelspec": {
   "display_name": "Bash",
   "language": "bash",
   "name": "bash"
  },
  "language_info": {
   "codemirror_mode": "shell",
   "file_extension": ".sh",
   "mimetype": "text/x-sh",
   "name": "bash"
  }
 },
 "nbformat": 4,
 "nbformat_minor": 2
}
