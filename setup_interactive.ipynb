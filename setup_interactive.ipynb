{
 "cells": [
  {
   "cell_type": "code",
   "execution_count": 12,
   "metadata": {},
   "outputs": [],
   "source": [
    "source /cvmfs/uboone.opensciencegrid.org/products/setup_uboone.sh"
   ]
  },
  {
   "cell_type": "code",
   "execution_count": 4,
   "metadata": {},
   "outputs": [],
   "source": [
    "setup uboonecode v07_07_01_02 -qe17:prof\n",
    "source setup_user_python.sh"
   ]
  },
  {
   "cell_type": "code",
   "execution_count": 2,
   "metadata": {},
   "outputs": [
    {
     "name": "stdout",
     "output_type": "stream",
     "text": [
      "\n",
      "building development area for larsoft v07_07_01 -q e17:prof\n",
      "\n",
      "MRB_BUILDDIR is /uboone/app/users/wketchum/dev_areas/mcc9_devs/nue_opfilter_studies/build_slf6.x86_64\n",
      "MRB_SOURCE is /uboone/app/users/wketchum/dev_areas/mcc9_devs/nue_opfilter_studies/srcs \n",
      "INFO: copying /cvmfs/larsoft.opensciencegrid.org/products/larsoft/v07_07_01/releaseDB/base_dependency_database\n",
      "\n",
      "IMPORTANT: You must type\n",
      "    source /uboone/app/users/wketchum/dev_areas/mcc9_devs/nue_opfilter_studies/localProducts_larsoft_v07_07_01_e17_prof/setup\n",
      "NOW and whenever you log in\n",
      "\n",
      "\n",
      "MRB_PROJECT=larsoft\n",
      "MRB_PROJECT_VERSION=v07_07_01\n",
      "MRB_QUALS=e17:prof\n",
      "MRB_TOP=/uboone/app/users/wketchum/dev_areas/mcc9_devs/nue_opfilter_studies\n",
      "MRB_SOURCE=/uboone/app/users/wketchum/dev_areas/mcc9_devs/nue_opfilter_studies/srcs\n",
      "MRB_BUILDDIR=/uboone/app/users/wketchum/dev_areas/mcc9_devs/nue_opfilter_studies/build_slf6.x86_64\n",
      "MRB_INSTALL=/uboone/app/users/wketchum/dev_areas/mcc9_devs/nue_opfilter_studies/localProducts_larsoft_v07_07_01_e17_prof\n",
      "\n",
      "PRODUCTS=/uboone/app/users/wketchum/dev_areas/mcc9_devs/nue_opfilter_studies/localProducts_larsoft_v07_07_01_e17_prof:/cvmfs/uboone.opensciencegrid.org/products:/cvmfs/larsoft.opensciencegrid.org/products:/cvmfs/fermilab.opensciencegrid.org/products/larsoft:/cvmfs/fermilab.opensciencegrid.org/products/common/db\n",
      "\n"
     ]
    }
   ],
   "source": [
    "mrb newDev -p\n",
    "source localProducts_*/setup"
   ]
  },
  {
   "cell_type": "code",
   "execution_count": null,
   "metadata": {},
   "outputs": [],
   "source": [
    "#jupyter nbconvert --to script setup_interactive.ipynb"
   ]
  }
 ],
 "metadata": {
  "kernelspec": {
   "display_name": "Bash",
   "language": "bash",
   "name": "bash"
  },
  "language_info": {
   "codemirror_mode": "shell",
   "file_extension": ".sh",
   "mimetype": "text/x-sh",
   "name": "bash"
  }
 },
 "nbformat": 4,
 "nbformat_minor": 2
}
