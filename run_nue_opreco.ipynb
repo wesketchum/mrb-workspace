{
 "cells": [
  {
   "cell_type": "code",
   "execution_count": 15,
   "metadata": {},
   "outputs": [],
   "source": [
    "ls /pnfs/uboone/scratch/users/wketchum/genie_studies/bnb_nue*/*/bnb_nue*.root >& input_files/file_list_22Oct2018_2000.txt"
   ]
  },
  {
   "cell_type": "code",
   "execution_count": 8,
   "metadata": {},
   "outputs": [
    {
     "name": "stdout",
     "output_type": "stream",
     "text": [
      "/pnfs/uboone/scratch/users/wketchum/genie_studies/bnb_nue/12591731_1/bnb_nue_detsim_optical_uboone_20181021T0905420_b9098b66-45b0-49a8-89c9-548030dd8fc8.root\n",
      "/pnfs/uboone/scratch/users/wketchum/genie_studies/bnb_nue_offsite/12591746_1/bnb_nue_detsim_optical_uboone_20181021T0923070_64617352-b531-4851-8b7c-2194b9a6f196.root\n"
     ]
    }
   ],
   "source": [
    "ls /pnfs/uboone/scratch/users/wketchum/genie_studies/bnb_nue*/*_1/bnb*.root"
   ]
  },
  {
   "cell_type": "code",
   "execution_count": 16,
   "metadata": {},
   "outputs": [
    {
     "name": "stdout",
     "output_type": "stream",
     "text": [
      "1666 input_files/file_list_22Oct2018_1300.txt\n",
      "1921 input_files/file_list_22Oct2018_1730.txt\n",
      "1961 input_files/file_list_22Oct2018_2000.txt\n"
     ]
    }
   ],
   "source": [
    "wc -l input_files/file_list_22Oct2018_1300.txt\n",
    "wc -l input_files/file_list_22Oct2018_1730.txt\n",
    "wc -l input_files/file_list_22Oct2018_2000.txt"
   ]
  },
  {
   "cell_type": "code",
   "execution_count": 3,
   "metadata": {},
   "outputs": [
    {
     "name": "stdout",
     "output_type": "stream",
     "text": [
      "README.md\n",
      "\u001b[0m\u001b[38;5;27mbuild_slf6.x86_64\u001b[0m\n",
      "detsim_uboone.fcl\n",
      "file_list_22Oct2018_1300.txt\n",
      "file_list_22Oct2018_1730.txt\n",
      "g4_uboone.fcl\n",
      "\u001b[38;5;27mlocalProducts_larsoft_v07_07_01_e17_prof\u001b[0m\n",
      "mem.db\n",
      "my_setup.sh\n",
      "nue_opreco.fcl\n",
      "nue_opreco.fcl~\n",
      "nue_sim_uboone.fcl\n",
      "output_files.ipynb\n",
      "prodgenie.fcl\n",
      "prodgenie_bnb_intrinsic_nue_uboone.fcl\n",
      "prodgenie_bnb_nu_detsim_optical_uboone.xml\n",
      "prodgenie_bnb_nu_detsim_optical_uboone_offsite.xml\n",
      "prodgenie_nue_cc_100MeV.fcl\n",
      "prodgenie_nue_cc_uniform_flux_uboone.fcl\n",
      "reco_uboone_mcc9_8_driver_stage1.fcl\n",
      "root_hist_test.ipynb\n",
      "run_nue_sim.ipynb\n",
      "setup_interactive.ipynb\n",
      "setup_user_python.sh\n",
      "\u001b[38;5;27msrcs\u001b[0m\n",
      "start_jupyterlab.sh\n",
      "test_genie_function_flux.ipynb\n",
      "time.db\n",
      "\u001b[m"
     ]
    }
   ],
   "source": [
    "ls"
   ]
  },
  {
   "cell_type": "code",
   "execution_count": 6,
   "metadata": {},
   "outputs": [
    {
     "name": "stdout",
     "output_type": "stream",
     "text": [
      "Setting up old larsoft UPS area... /cvmfs/fermilab.opensciencegrid.org/products/larsoft/\n",
      "Setting up new larsoft UPS area... /cvmfs/larsoft.opensciencegrid.org/products/\n",
      "Setting up uboone UPS area... /cvmfs/uboone.opensciencegrid.org/products/\n",
      "Using python from /cvmfs/larsoft.opensciencegrid.org/products/python/v2_7_14b/Linux64bit+2.6-2.12/bin/python\n",
      "Requirement already satisfied: jupyterlab in /nashome/w/wketchum/python_libs/lib/python2.7/site-packages\n",
      "Requirement already satisfied: metakernel in /nashome/w/wketchum/python_libs/lib/python2.7/site-packages\n",
      "Requirement already satisfied: zmq in /nashome/w/wketchum/python_libs/lib/python2.7/site-packages\n",
      "Requirement already satisfied: futures; python_version < \"3.0\" in /nashome/w/wketchum/python_libs/lib/python2.7/site-packages (from jupyterlab)\n",
      "Requirement already satisfied: jupyterlab-launcher<0.12.0,>=0.11.2 in /nashome/w/wketchum/python_libs/lib/python2.7/site-packages (from jupyterlab)\n",
      "Requirement already satisfied: notebook>=4.3.1 in /nashome/w/wketchum/python_libs/lib/python2.7/site-packages (from jupyterlab)\n",
      "Requirement already satisfied: subprocess32>=3.5; python_version < \"3.0\" in /nashome/w/wketchum/python_libs/lib/python2.7/site-packages (from jupyterlab)\n",
      "Requirement already satisfied: ipython-genutils in /nashome/w/wketchum/python_libs/lib/python2.7/site-packages (from jupyterlab)\n",
      "Requirement already satisfied: pexpect>=4.2 in /nashome/w/wketchum/python_libs/lib/python2.7/site-packages (from metakernel)\n",
      "Requirement already satisfied: ipykernel<6.0 in /nashome/w/wketchum/python_libs/lib/python2.7/site-packages (from metakernel)\n",
      "Requirement already satisfied: pyzmq in /nashome/w/wketchum/python_libs/lib/python2.7/site-packages (from zmq)\n",
      "Requirement already satisfied: jsonschema>=2.6.0 in /nashome/w/wketchum/python_libs/lib/python2.7/site-packages (from jupyterlab-launcher<0.12.0,>=0.11.2->jupyterlab)\n",
      "Requirement already satisfied: terminado>=0.8.1 in /nashome/w/wketchum/python_libs/lib/python2.7/site-packages (from notebook>=4.3.1->jupyterlab)\n",
      "Requirement already satisfied: tornado>=4 in /nashome/w/wketchum/python_libs/lib/python2.7/site-packages (from notebook>=4.3.1->jupyterlab)\n",
      "Requirement already satisfied: jupyter-client>=5.2.0 in /nashome/w/wketchum/python_libs/lib/python2.7/site-packages (from notebook>=4.3.1->jupyterlab)\n",
      "Requirement already satisfied: jinja2 in /nashome/w/wketchum/python_libs/lib/python2.7/site-packages (from notebook>=4.3.1->jupyterlab)\n",
      "Requirement already satisfied: traitlets>=4.2.1 in /nashome/w/wketchum/python_libs/lib/python2.7/site-packages (from notebook>=4.3.1->jupyterlab)\n",
      "Requirement already satisfied: Send2Trash in /nashome/w/wketchum/python_libs/lib/python2.7/site-packages (from notebook>=4.3.1->jupyterlab)\n",
      "Requirement already satisfied: nbconvert in /nashome/w/wketchum/python_libs/lib/python2.7/site-packages (from notebook>=4.3.1->jupyterlab)\n",
      "Requirement already satisfied: jupyter-core>=4.4.0 in /nashome/w/wketchum/python_libs/lib/python2.7/site-packages (from notebook>=4.3.1->jupyterlab)\n",
      "Requirement already satisfied: prometheus-client in /nashome/w/wketchum/python_libs/lib/python2.7/site-packages (from notebook>=4.3.1->jupyterlab)\n",
      "Requirement already satisfied: ipaddress; python_version == \"2.7\" in /nashome/w/wketchum/python_libs/lib/python2.7/site-packages (from notebook>=4.3.1->jupyterlab)\n",
      "Requirement already satisfied: nbformat in /nashome/w/wketchum/python_libs/lib/python2.7/site-packages (from notebook>=4.3.1->jupyterlab)\n",
      "Requirement already satisfied: ptyprocess>=0.5 in /nashome/w/wketchum/python_libs/lib/python2.7/site-packages (from pexpect>=4.2->metakernel)\n",
      "Requirement already satisfied: ipython>=4.0.0 in /nashome/w/wketchum/python_libs/lib/python2.7/site-packages (from ipykernel<6.0->metakernel)\n",
      "Requirement already satisfied: functools32; python_version == \"2.7\" in /nashome/w/wketchum/python_libs/lib/python2.7/site-packages (from jsonschema>=2.6.0->jupyterlab-launcher<0.12.0,>=0.11.2->jupyterlab)\n",
      "Requirement already satisfied: backports-abc>=0.4 in /nashome/w/wketchum/python_libs/lib/python2.7/site-packages (from tornado>=4->notebook>=4.3.1->jupyterlab)\n",
      "Requirement already satisfied: singledispatch in /nashome/w/wketchum/python_libs/lib/python2.7/site-packages (from tornado>=4->notebook>=4.3.1->jupyterlab)\n",
      "Requirement already satisfied: python-dateutil>=2.1 in /nashome/w/wketchum/python_libs/lib/python2.7/site-packages (from jupyter-client>=5.2.0->notebook>=4.3.1->jupyterlab)\n",
      "Requirement already satisfied: MarkupSafe>=0.23 in /nashome/w/wketchum/python_libs/lib/python2.7/site-packages (from jinja2->notebook>=4.3.1->jupyterlab)\n",
      "Requirement already satisfied: decorator in /nashome/w/wketchum/python_libs/lib/python2.7/site-packages (from traitlets>=4.2.1->notebook>=4.3.1->jupyterlab)\n",
      "Requirement already satisfied: enum34; python_version == \"2.7\" in /nashome/w/wketchum/python_libs/lib/python2.7/site-packages (from traitlets>=4.2.1->notebook>=4.3.1->jupyterlab)\n",
      "Requirement already satisfied: six in /cvmfs/larsoft.opensciencegrid.org/products/python/v2_7_14b/Linux64bit+2.6-2.12/lib/python2.7/site-packages (from traitlets>=4.2.1->notebook>=4.3.1->jupyterlab)\n",
      "Requirement already satisfied: entrypoints>=0.2.2 in /nashome/w/wketchum/python_libs/lib/python2.7/site-packages (from nbconvert->notebook>=4.3.1->jupyterlab)\n",
      "Requirement already satisfied: testpath in /nashome/w/wketchum/python_libs/lib/python2.7/site-packages (from nbconvert->notebook>=4.3.1->jupyterlab)\n",
      "Requirement already satisfied: pandocfilters>=1.4.1 in /nashome/w/wketchum/python_libs/lib/python2.7/site-packages (from nbconvert->notebook>=4.3.1->jupyterlab)\n",
      "Requirement already satisfied: pygments in /nashome/w/wketchum/python_libs/lib/python2.7/site-packages (from nbconvert->notebook>=4.3.1->jupyterlab)\n",
      "Requirement already satisfied: mistune>=0.8.1 in /nashome/w/wketchum/python_libs/lib/python2.7/site-packages (from nbconvert->notebook>=4.3.1->jupyterlab)\n",
      "Requirement already satisfied: bleach in /nashome/w/wketchum/python_libs/lib/python2.7/site-packages (from nbconvert->notebook>=4.3.1->jupyterlab)\n",
      "Requirement already satisfied: defusedxml in /nashome/w/wketchum/python_libs/lib/python2.7/site-packages (from nbconvert->notebook>=4.3.1->jupyterlab)\n",
      "Requirement already satisfied: setuptools>=18.5 in /cvmfs/larsoft.opensciencegrid.org/products/python/v2_7_14b/Linux64bit+2.6-2.12/lib/python2.7/site-packages (from ipython>=4.0.0->ipykernel<6.0->metakernel)\n",
      "Requirement already satisfied: backports.shutil-get-terminal-size; python_version == \"2.7\" in /nashome/w/wketchum/python_libs/lib/python2.7/site-packages (from ipython>=4.0.0->ipykernel<6.0->metakernel)\n",
      "Requirement already satisfied: pickleshare in /nashome/w/wketchum/python_libs/lib/python2.7/site-packages (from ipython>=4.0.0->ipykernel<6.0->metakernel)\n",
      "Requirement already satisfied: simplegeneric>0.8 in /nashome/w/wketchum/python_libs/lib/python2.7/site-packages (from ipython>=4.0.0->ipykernel<6.0->metakernel)\n",
      "Requirement already satisfied: prompt-toolkit<2.0.0,>=1.0.4 in /nashome/w/wketchum/python_libs/lib/python2.7/site-packages (from ipython>=4.0.0->ipykernel<6.0->metakernel)\n",
      "Requirement already satisfied: pathlib2; python_version == \"2.7\" or python_version == \"3.3\" in /nashome/w/wketchum/python_libs/lib/python2.7/site-packages (from ipython>=4.0.0->ipykernel<6.0->metakernel)\n",
      "Requirement already satisfied: configparser>=3.5; python_version == \"2.7\" in /nashome/w/wketchum/python_libs/lib/python2.7/site-packages (from entrypoints>=0.2.2->nbconvert->notebook>=4.3.1->jupyterlab)\n",
      "Requirement already satisfied: webencodings in /nashome/w/wketchum/python_libs/lib/python2.7/site-packages (from bleach->nbconvert->notebook>=4.3.1->jupyterlab)\n",
      "Requirement already satisfied: wcwidth in /nashome/w/wketchum/python_libs/lib/python2.7/site-packages (from prompt-toolkit<2.0.0,>=1.0.4->ipython>=4.0.0->ipykernel<6.0->metakernel)\n",
      "Requirement already satisfied: scandir; python_version < \"3.5\" in /nashome/w/wketchum/python_libs/lib/python2.7/site-packages (from pathlib2; python_version == \"2.7\" or python_version == \"3.3\"->ipython>=4.0.0->ipykernel<6.0->metakernel)\n",
      "\u001b[33mYou are using pip version 9.0.1, however version 18.1 is available.\n",
      "You should consider upgrading via the 'pip install --upgrade pip' command.\u001b[0m\n",
      "Requirement already satisfied: bash_kernel in /nashome/w/wketchum/python_libs/lib/python2.7/site-packages\n",
      "Requirement already satisfied: pexpect>=4.0 in /nashome/w/wketchum/python_libs/lib/python2.7/site-packages (from bash_kernel)\n",
      "Requirement already satisfied: ptyprocess>=0.5 in /nashome/w/wketchum/python_libs/lib/python2.7/site-packages (from pexpect>=4.0->bash_kernel)\n",
      "\u001b[33mYou are using pip version 9.0.1, however version 18.1 is available.\n",
      "You should consider upgrading via the 'pip install --upgrade pip' command.\u001b[0m\n",
      "Installing IPython kernel spec\n",
      "Requirement already satisfied: numpy in /nashome/w/wketchum/python_libs/lib/python2.7/site-packages\n",
      "Requirement already satisfied: pandas in /nashome/w/wketchum/python_libs/lib/python2.7/site-packages\n",
      "Requirement already satisfied: matplotlib in /nashome/w/wketchum/python_libs/lib/python2.7/site-packages\n",
      "Requirement already satisfied: scipy in /nashome/w/wketchum/python_libs/lib/python2.7/site-packages\n",
      "Requirement already satisfied: python-dateutil>=2.5.0 in /nashome/w/wketchum/python_libs/lib/python2.7/site-packages (from pandas)\n",
      "Requirement already satisfied: pytz>=2011k in /nashome/w/wketchum/python_libs/lib/python2.7/site-packages (from pandas)\n",
      "Requirement already satisfied: backports.functools-lru-cache in /nashome/w/wketchum/python_libs/lib/python2.7/site-packages (from matplotlib)\n",
      "Requirement already satisfied: cycler>=0.10 in /nashome/w/wketchum/python_libs/lib/python2.7/site-packages (from matplotlib)\n",
      "Requirement already satisfied: pyparsing!=2.0.4,!=2.1.2,!=2.1.6,>=2.0.1 in /cvmfs/larsoft.opensciencegrid.org/products/python/v2_7_14b/Linux64bit+2.6-2.12/lib/python2.7/site-packages (from matplotlib)\n",
      "Requirement already satisfied: six>=1.10 in /cvmfs/larsoft.opensciencegrid.org/products/python/v2_7_14b/Linux64bit+2.6-2.12/lib/python2.7/site-packages (from matplotlib)\n",
      "Requirement already satisfied: kiwisolver>=1.0.1 in /nashome/w/wketchum/python_libs/lib/python2.7/site-packages (from matplotlib)\n",
      "Requirement already satisfied: subprocess32 in /nashome/w/wketchum/python_libs/lib/python2.7/site-packages (from matplotlib)\n",
      "Requirement already satisfied: setuptools in /cvmfs/larsoft.opensciencegrid.org/products/python/v2_7_14b/Linux64bit+2.6-2.12/lib/python2.7/site-packages (from kiwisolver>=1.0.1->matplotlib)\n",
      "\u001b[33mYou are using pip version 9.0.1, however version 18.1 is available.\n",
      "You should consider upgrading via the 'pip install --upgrade pip' command.\u001b[0m\n",
      "Requirement already satisfied: uproot in /nashome/w/wketchum/python_libs/lib/python2.7/site-packages\n",
      "Requirement already satisfied: awkward in /nashome/w/wketchum/python_libs/lib/python2.7/site-packages (from uproot)\n",
      "Requirement already satisfied: cachetools in /nashome/w/wketchum/python_libs/lib/python2.7/site-packages (from uproot)\n",
      "Requirement already satisfied: numpy>=1.13.1 in /nashome/w/wketchum/python_libs/lib/python2.7/site-packages (from uproot)\n",
      "Requirement already satisfied: uproot-methods>=0.2.0 in /nashome/w/wketchum/python_libs/lib/python2.7/site-packages (from uproot)\n",
      "Requirement already satisfied: lz4 in /nashome/w/wketchum/python_libs/lib/python2.7/site-packages (from uproot)\n",
      "Requirement already satisfied: future in /nashome/w/wketchum/python_libs/lib/python2.7/site-packages (from lz4->uproot)\n",
      "\u001b[33mYou are using pip version 9.0.1, however version 18.1 is available.\n",
      "You should consider upgrading via the 'pip install --upgrade pip' command.\u001b[0m\n",
      "NOTICE: Just make products area\n",
      "\n",
      "building development area for larsoft v07_07_01 -q e17:prof\n",
      "\n",
      "use existing build directory in .\n",
      "use existing srcs directory /uboone/app/users/wketchum/dev_areas/mcc9_devs/nue_opfilter_studies/srcs\n",
      "ERROR: /uboone/app/users/wketchum/dev_areas/mcc9_devs/nue_opfilter_studies/localProducts_larsoft_v07_07_01_e17_prof already exists. Delete it first\n",
      "\n",
      "MRB_PROJECT=larsoft\n",
      "MRB_PROJECT_VERSION=v07_07_01\n",
      "MRB_QUALS=e17:prof\n",
      "MRB_TOP=/uboone/app/users/wketchum/dev_areas/mcc9_devs/nue_opfilter_studies\n",
      "MRB_SOURCE=/uboone/app/users/wketchum/dev_areas/mcc9_devs/nue_opfilter_studies/srcs\n",
      "MRB_BUILDDIR=/uboone/app/users/wketchum/dev_areas/mcc9_devs/nue_opfilter_studies/build_slf6.x86_64\n",
      "MRB_INSTALL=/uboone/app/users/wketchum/dev_areas/mcc9_devs/nue_opfilter_studies/localProducts_larsoft_v07_07_01_e17_prof\n",
      "\n",
      "PRODUCTS=/uboone/app/users/wketchum/dev_areas/mcc9_devs/nue_opfilter_studies/localProducts_larsoft_v07_07_01_e17_prof:/uboone/app/users/wketchum/dev_areas/mcc9_devs/nue_opfilter_studies/localProducts_larsoft_v07_07_01_e17_prof:/cvmfs/uboone.opensciencegrid.org/products:/cvmfs/larsoft.opensciencegrid.org/products:/cvmfs/fermilab.opensciencegrid.org/products/larsoft:/cvmfs/fermilab.opensciencegrid.org/products/common/db\n",
      "\n"
     ]
    }
   ],
   "source": [
    "source my_setup.sh;"
   ]
  },
  {
   "cell_type": "code",
   "execution_count": 7,
   "metadata": {},
   "outputs": [
    {
     "name": "stdout",
     "output_type": "stream",
     "text": [
      "local product directory is /uboone/app/users/wketchum/dev_areas/mcc9_devs/nue_opfilter_studies/localProducts_larsoft_v07_07_01_e17_prof\n",
      "----------- this block should be empty ------------------\n",
      "---------------------------------------------------------\n"
     ]
    },
    {
     "ename": "",
     "evalue": "1",
     "execution_count": 7,
     "output_type": "error",
     "traceback": []
    }
   ],
   "source": [
    "mrbslp"
   ]
  },
  {
   "cell_type": "code",
   "execution_count": 17,
   "metadata": {},
   "outputs": [
    {
     "name": "stdout",
     "output_type": "stream",
     "text": [
      "RootOutput-65c7-7e1a-c97a-42c2.root    muons_edep_10ev_2.root\n",
      "TFileService-033b-0e2a-4480-ee1f.root  muons_edep_10ev_3.root\n",
      "TFileService-1705-e8bd-41ab-14ce.root  muons_g4_10ev.root\n",
      "TFileService-26eb-3d0d-76de-8d61.root  muons_gen_10ev.root\n",
      "TFileService-431c-12cb-7381-0ae8.root  nue_sim.log\n",
      "TFileService-4987-7bf1-d60a-5c28.root  nue_sim.root\n",
      "TFileService-50b8-fefb-b20f-051c.root  nue_sim_tfs.root\n",
      "TFileService-6359-7ffc-152f-3319.root  prodsingle_p_10ev.root\n",
      "TFileService-a4db-2a8b-135c-c07c.root  prodsingle_p_10ev_detsim_standard.root\n",
      "TFileService-d235-15eb-dffa-d886.root  prodsingle_p_10ev_detsim_step1mm.root\n",
      "bnb_intrinsic_nue_detsim_tfs.root      prodsingle_p_10ev_g4_standard.root\n",
      "bnb_intrinsic_nue_g4.log               prodsingle_p_10ev_g4_step1mm.root\n",
      "bnb_intrinsic_nue_g4.root              prodsingle_p_10ev_g4_step1mm_tfs.root\n",
      "bnb_intrinsic_nue_g4_tfs.root          prodsingle_p_10ev_g4_step3mm.root\n",
      "bnb_intrinsic_nue_genie.log            prodsingle_p_10ev_g4_step3mm_tfs.root\n",
      "bnb_intrinsic_nue_genie.root           shiftedep.fcl\n",
      "bnb_intrinsic_nue_genie_tfs.root       shiftedep.fcl~\n",
      "g4_hist.root                           single_hist_uboone.root\n",
      "mem.db                                 standard_g4_uboone.fcl\n",
      "muons_edep_10ev.root                   time.db\n"
     ]
    }
   ],
   "source": [
    "ls /uboone/data/users/wketchum/mcc9/"
   ]
  },
  {
   "cell_type": "code",
   "execution_count": 18,
   "metadata": {},
   "outputs": [
    {
     "name": "stdout",
     "output_type": "stream",
     "text": [
      "[1] 26550\n"
     ]
    }
   ],
   "source": [
    "nohup lar -c fcls/nue_opreco.fcl -n -1 -o /dev/null -T /uboone/data/users/wketchum/mcc9/nue_opfilterana.root -S input_files/file_list_22Oct2018_2000.txt >& /uboone/data/users/wketchum/mcc9/nue_opfilterana.log &"
   ]
  },
  {
   "cell_type": "code",
   "execution_count": 19,
   "metadata": {},
   "outputs": [
    {
     "name": "stdout",
     "output_type": "stream",
     "text": [
      "prodgenie_bnb_intrinsic_nue_uboone_210_20181016T180145_gen1_fff337f2-e371-45d0-af5e-7fad4e8dea02_20181020T113652_detsim_20181020T122256_reco1_postwcct_postdlmc_20181020T131734_reco2.root\n",
      "prodgenie_bnb_intrinsic_nue_uboone_4063_20181016T202809_gen1_442d18d2-ef5f-499f-b803-4b581d0f4b97_20181020T120509_detsim_20181020T125359_reco1_postwcct_postdlmc_20181020T141824_reco2.root\n",
      "prodgenie_bnb_intrinsic_nue_uboone_5519_20181016T205313_gen1_13088327-fbbb-401e-8443-1f6f341375c3_20181020T120944_detsim_20181020T125834_reco1_postwcct_postdlmc_20181020T141548_reco2.root\n",
      "prodgenie_bnb_intrinsic_nue_uboone_4807_20181016T204221_gen1_7dbca428-c05d-4023-87da-02549bbc8b62_20181020T123714_detsim_20181020T133402_reco1_postwcct_postdlmc_20181020T150010_reco2.root\n",
      "prodgenie_bnb_intrinsic_nue_uboone_4187_20181016T202813_gen1_25f9ebf1-a116-47bc-b91a-a3c7b0f16066_20181020T123334_detsim_20181020T132119_reco1_postwcct_postdlmc_20181020T144738_reco2.root\n"
     ]
    }
   ],
   "source": [
    "samweb list-definition-files prodgenie_bnb_intrinsic_nue_cosmic_uboone_mcc9.0_beta2_oct_reco_2d_wc_reco2 | head -n 5"
   ]
  },
  {
   "cell_type": "code",
   "execution_count": 20,
   "metadata": {},
   "outputs": [
    {
     "name": "stdout",
     "output_type": "stream",
     "text": [
      "enstore:/pnfs/uboone/mc/uboone/reconstructed/prod_v07_07_03/prodgenie_bnb_intrinsic_nue_cosmic_uboone/reco_2d_wc(985@vr0187m8)\n"
     ]
    }
   ],
   "source": [
    "samweb locate-file prodgenie_bnb_intrinsic_nue_uboone_210_20181016T180145_gen1_fff337f2-e371-45d0-af5e-7fad4e8dea02_20181020T113652_detsim_20181020T122256_reco1_postwcct_postdlmc_20181020T131734_reco2.root"
   ]
  },
  {
   "cell_type": "code",
   "execution_count": 29,
   "metadata": {},
   "outputs": [],
   "source": [
    "ls /pnfs/uboone/mc/uboone/reconstructed/prod_v07_07_03/prodgenie_bnb_intrinsic_nue_cosmic_uboone/reco_2d_wc/*.root >& ../input_files/file_list_nue_cosmic_tag2.txt"
   ]
  },
  {
   "cell_type": "code",
   "execution_count": 23,
   "metadata": {},
   "outputs": [
    {
     "name": "stdout",
     "output_type": "stream",
     "text": [
      "6680 input_files/file_list_nue_cosmic_tag2.txt\n"
     ]
    }
   ],
   "source": [
    "wc -l input_files/file_list_nue_cosmic_tag2.txt"
   ]
  },
  {
   "cell_type": "code",
   "execution_count": 26,
   "metadata": {},
   "outputs": [],
   "source": [
    "mkdir tmp_area; cd tmp_area"
   ]
  },
  {
   "cell_type": "code",
   "execution_count": 27,
   "metadata": {},
   "outputs": [
    {
     "name": "stdout",
     "output_type": "stream",
     "text": [
      "[2] 6081\n"
     ]
    }
   ],
   "source": [
    "nohup lar -c ../fcls/nue_opreco.fcl -n -1 -o /dev/null -T /uboone/data/users/wketchum/mcc9/nue_cosmic_opfilterana.root -S ../input_files/file_list_nue_cosmic_tag2.txt >& /uboone/data/users/wketchum/mcc9/nue_cosmic_opfilterana.log &"
   ]
  },
  {
   "cell_type": "code",
   "execution_count": null,
   "metadata": {},
   "outputs": [],
   "source": []
  }
 ],
 "metadata": {
  "kernelspec": {
   "display_name": "Bash",
   "language": "bash",
   "name": "bash"
  },
  "language_info": {
   "codemirror_mode": "shell",
   "file_extension": ".sh",
   "mimetype": "text/x-sh",
   "name": "bash"
  }
 },
 "nbformat": 4,
 "nbformat_minor": 2
}
